{
 "cells": [
  {
   "cell_type": "code",
   "execution_count": 70,
   "id": "5811df88",
   "metadata": {
    "scrolled": true
   },
   "outputs": [
    {
     "name": "stdout",
     "output_type": "stream",
     "text": [
      "file P69.test.json already done!\n",
      "file P170.test.json already done!\n",
      "file P26.test.json already done!\n",
      "file P407.test.json already done!\n",
      "file P413.test.json already done!\n",
      "file P20.test.json already done!\n",
      "file P176.test.json already done!\n",
      "file P495.test.json already done!\n",
      "file P276.test.json already done!\n",
      "file P106.test.json already done!\n",
      "file P112.test.json already done!\n",
      "file P50.test.json already done!\n",
      "file P127.test.json already done!\n",
      "file P19.test.json already done!\n",
      "file P264.test.json already done!\n",
      "file P800.test.json already done!\n",
      "file P136.test.json already done!\n",
      "file P740.test.json already done!\n",
      "file P17.test.json already done!\n",
      "file P36.test.json already done!\n",
      "file P131.test.json already done!\n",
      "file P159.test.json already done!\n",
      "file P40.test.json already done!\n",
      "file P175.test.json already done!\n"
     ]
    }
   ],
   "source": [
    "# import argparse\n",
    "import pandas as pd\n",
    "import json\n",
    "import collections\n",
    "from typing import Union, List\n",
    "import os\n",
    "import requests\n",
    "import numpy as np\n",
    "import dsp\n",
    "import random\n",
    "\n",
    "def extract_entity(x: list):\n",
    "    res = []\n",
    "    for entity in x:\n",
    "        if entity[\"entityType\"] == \"entity\":\n",
    "            res.append(entity[\"label\"] if entity[\"label\"] else entity[\"mention\"])\n",
    "    return res\n",
    "\n",
    "\n",
    "\n",
    "\n",
    "def cal_popularity(x: list) -> list:\n",
    "    endpoint = \"https://en.wikipedia.org/w/api.php\"\n",
    "    params = {\n",
    "        \"action\": \"query\",\n",
    "        \"prop\": \"pageviews\",\n",
    "        \"titles\": None,\n",
    "        \"format\": \"json\",\n",
    "        \"pvipmetric\": \"pageviews\"\n",
    "\n",
    "    }\n",
    "    pageviews = []\n",
    "    for entity in x:\n",
    "        if entity:\n",
    "            params[\"titles\"] = entity.replace(' ', '_')\n",
    "            try:\n",
    "                response = requests.get(endpoint, params=params)\n",
    "                response.raise_for_status()\n",
    "                response = response.json()\n",
    "            except Exception as ex:\n",
    "                raise ex\n",
    "            try:\n",
    "                pages = response[\"query\"][\"pages\"]\n",
    "                views = []\n",
    "                for page in pages.keys():\n",
    "                    try:\n",
    "                        content = pages[page][\"pageviews\"]\n",
    "                        df = pd.DataFrame.from_dict({\"date\": content.keys(), \"views\": content.values()})\n",
    "                        df = df.dropna()\n",
    "                        views.append(df.views.sum())\n",
    "                    except:\n",
    "                        continue\n",
    "                if views:\n",
    "                    pageviews.append(int(sum(views)))\n",
    "                else:\n",
    "                    pageviews.append(None)\n",
    "            except:\n",
    "                pageviews.append(None)\n",
    "        else:\n",
    "            pageviews.append(None)\n",
    "#     print(pageviews)\n",
    "    return pageviews\n",
    "\n",
    "\n",
    "# load mintaka functions\n",
    "path = \"dataset/test\"\n",
    "files = os.listdir(path)\n",
    "with open(\"dataset/relation_query_templates.json\", \"r\") as f:\n",
    "    templates = json.loads(f.read())\n",
    "\n",
    "for f in files:\n",
    "    # find entity location\n",
    "    file_type = f.split('.')[0]\n",
    "    lst = templates[file_type].split(\"[X]\")\n",
    "    lst = [len(i) for i in lst]\n",
    "    # extract entity\n",
    "    df = pd.read_json('/'.join([path, f]))\n",
    "    if \"q_pop\" in df.columns:\n",
    "        print(f\"file {f} already done!\")\n",
    "    else:\n",
    "        print(\"Getting pop data...\")\n",
    "        df[\"question_entity\"] = df[\"question\"].apply(lambda x: [x[lst[0]:-lst[1]]])\n",
    "        df[\"q_pop\"] = df[\"question_entity\"].apply(lambda x: cal_popularity(x))\n",
    "        df.to_json('/'.join([path, f]), orient=\"records\", indent=4)\n",
    "        print(f\"file {f} updated!\")\n"
   ]
  },
  {
   "cell_type": "code",
   "execution_count": 71,
   "id": "abd47096",
   "metadata": {},
   "outputs": [
    {
     "data": {
      "text/plain": [
       "[{'question': 'Where is Mouilly located?', 'answer': ['Meuse']},\n",
       " {'question': 'Which country is Plum Lake located in?',\n",
       "  'answer': ['United States of America']},\n",
       " {'question': 'What kind of work does Patrick Parisot do?',\n",
       "  'answer': ['diplomat']}]"
      ]
     },
     "execution_count": 71,
     "metadata": {},
     "output_type": "execute_result"
    }
   ],
   "source": [
    "def entity_question_data(n_sample: int = 30, thres: int = 1):\n",
    "    final = []\n",
    "    \n",
    "    for f in files:\n",
    "        df = pd.read_json('/'.join([path, f]))\n",
    "        df[\"pop_bin\"] = np.log10(df[\"q_pop\"].apply(lambda x: x[0]+1 if x[0] else None))\n",
    "        df = df.dropna()\n",
    "        df[\"pop_bin\"] = df[\"pop_bin\"].apply(int)\n",
    "        # filter low pop data\n",
    "        data = df[df[\"pop_bin\"]<=thres]\n",
    "        true_n = n_sample if len(data) >= n_sample else len(data)\n",
    "        data = data.sample(n=true_n, random_state=100)\n",
    "        section = list(pd.concat([data['question'], data['answers']], axis=1).apply(tuple, axis=1))\n",
    "        section = [dsp.Example(question=question, answer=answer) for question, answer in section]\n",
    "        final += section\n",
    "        \n",
    "    return final\n",
    "\n",
    "data = entity_question_data()\n",
    "random.Random(100).shuffle(data)\n",
    "data[:3]"
   ]
  },
  {
   "cell_type": "code",
   "execution_count": 5,
   "id": "b86b315d",
   "metadata": {
    "scrolled": false
   },
   "outputs": [
    {
     "ename": "NameError",
     "evalue": "name 'question_popularity' is not defined",
     "output_type": "error",
     "traceback": [
      "\u001b[0;31m---------------------------------------------------------------------------\u001b[0m",
      "\u001b[0;31mNameError\u001b[0m                                 Traceback (most recent call last)",
      "Input \u001b[0;32mIn [5]\u001b[0m, in \u001b[0;36m<cell line: 12>\u001b[0;34m()\u001b[0m\n\u001b[1;32m      9\u001b[0m     nums \u001b[38;5;241m=\u001b[39m np\u001b[38;5;241m.\u001b[39marray(clean_list)\n\u001b[1;32m     10\u001b[0m     \u001b[38;5;28;01mreturn\u001b[39;00m np\u001b[38;5;241m.\u001b[39maverage(nums)\n\u001b[0;32m---> 12\u001b[0m cleaned \u001b[38;5;241m=\u001b[39m \u001b[43mquestion_popularity\u001b[49m\u001b[38;5;241m.\u001b[39mapply(\u001b[38;5;28;01mlambda\u001b[39;00m x: clean(x))\n\u001b[1;32m     13\u001b[0m \u001b[38;5;28mprint\u001b[39m(\u001b[38;5;28msum\u001b[39m(cleaned\u001b[38;5;241m.\u001b[39misnull()))\n\u001b[1;32m     14\u001b[0m \u001b[38;5;66;03m# print(len(cleaned))\u001b[39;00m\n",
      "\u001b[0;31mNameError\u001b[0m: name 'question_popularity' is not defined"
     ]
    }
   ],
   "source": [
    "import numpy as np\n",
    "import matplotlib.pyplot as plt\n",
    "\n",
    "def clean(x: list):\n",
    "    if (None in x) and (len(set(x)) == 1):\n",
    "#         print(\"IN!!\")\n",
    "        return None\n",
    "    clean_list = [i for i in x if i]\n",
    "    nums = np.array(clean_list)\n",
    "    return np.average(nums)\n",
    "    \n",
    "cleaned = question_popularity.apply(lambda x: clean(x))\n",
    "print(sum(cleaned.isnull()))\n",
    "# print(len(cleaned))\n",
    "plt.figure(figsize=(8, 10))\n",
    "plt.hist(np.log10(cleaned), bins=10)\n",
    "plt.xlabel(\"num of entity search in past 60 days (log 10 based)\")\n",
    "plt.ylabel(\"num of questions\")\n",
    "plt.title(\"Popularity distribution in Mintaka\")\n",
    "# test.apply(lambda x: mock(x))"
   ]
  },
  {
   "cell_type": "code",
   "execution_count": 214,
   "id": "b225848f",
   "metadata": {
    "scrolled": false
   },
   "outputs": [
    {
     "data": {
      "image/png": "[encoded data removed]",
      "text/plain": [
       "<Figure size 1080x1080 with 9 Axes>"
      ]
     },
     "metadata": {
      "needs_background": "light"
     },
     "output_type": "display_data"
    }
   ],
   "source": [
    "train = load_mintaka(\"data/mintaka_train.json\")\n",
    "train[\"log_pop\"] = np.log10(cleaned)\n",
    "train.answer = train.answer.apply(lambda x: [x] if type(x) is str else [str(i) for i in x])\n",
    "train = train.dropna()\n",
    "train.log_pop = train.log_pop.apply(int)\n",
    "sections = train.groupby('complexityType').log_pop.apply(list)\n",
    "indices = list(sections.index)\n",
    "\n",
    "fig, axs = plt.subplots(3, 3, figsize=(15, 15))\n",
    "\n",
    "for i in range(len(sections)):\n",
    "    x, y = i//3, i%3\n",
    "#     axs[x, y].set_xlim(0, 8)\n",
    "    arr = np.array(sections[i])\n",
    "    labels, counts = np.unique(arr, return_counts=True)\n",
    "    axs[x, y].bar(labels, counts, align='center')\n",
    "    axs[x, y].set_xticks(np.arange(9))\n",
    "    axs[x, y].set_title(f'Popularity distribution on section: {indices[i]}')\n",
    "    \n",
    "#     axs[x, y].hist([str(record) for record in sorted(sections[i])], rwidth=0.7)\n",
    "    \n",
    "    \n",
    "# null_values = train[train.log_pop.isnull()].index\n",
    "# train.iloc[null_values].questionEntity.values[:10]\n",
    "# train.head(20)"
   ]
  },
  {
   "cell_type": "code",
   "execution_count": 33,
   "id": "8272201d",
   "metadata": {},
   "outputs": [
    {
     "name": "stdout",
     "output_type": "stream",
     "text": [
      "The autoreload extension is already loaded. To reload it, use:\n",
      "  %reload_ext autoreload\n"
     ]
    },
    {
     "data": {
      "text/plain": [
       "Counter({0: 15, 1: 3, 2: 33, 3: 49, 4: 29, 5: 65, 6: 6})"
      ]
     },
     "execution_count": 33,
     "metadata": {},
     "output_type": "execute_result"
    }
   ],
   "source": [
    "%load_ext autoreload\n",
    "%autoreload 2\n",
    "from create_sample import make_example\n",
    "from collections import Counter\n",
    "kwargs = {\n",
    "    \"section\": \"count\",\n",
    "    \"pop_thres\": 4\n",
    "}\n",
    "train, test = make_example(\"data/mintaka_train.json\", **kwargs)\n",
    "pops = [ex[\"pop\"] for ex in train]\n",
    "Counter(sorted(pops))"
   ]
  },
  {
   "cell_type": "code",
   "execution_count": 42,
   "id": "3a2797f6",
   "metadata": {},
   "outputs": [
    {
     "name": "stdout",
     "output_type": "stream",
     "text": [
      "{'item a': 200, 'item b': 'hello'}\n"
     ]
    }
   ],
   "source": [
    "class Test:\n",
    "    def __init__(self, **kwargs):\n",
    "        self.kwargs = {\n",
    "            \"item a\": 100,\n",
    "            **kwargs\n",
    "        }\n",
    "    def print_args(self):\n",
    "        print(self.kwargs)\n",
    "        \n",
    "\n",
    "args = {\n",
    "    \"item b\": \"hello\",\n",
    "    \"item a\": 200\n",
    "}\n",
    "test = Test(**args)\n",
    "test.print_args()"
   ]
  }
 ],
 "metadata": {
  "kernelspec": {
   "display_name": "Python 3 (ipykernel)",
   "language": "python",
   "name": "python3"
  },
  "language_info": {
   "codemirror_mode": {
    "name": "ipython",
    "version": 3
   },
   "file_extension": ".py",
   "mimetype": "text/x-python",
   "name": "python",
   "nbconvert_exporter": "python",
   "pygments_lexer": "ipython3",
   "version": "3.9.12"
  }
 },
 "nbformat": 4,
 "nbformat_minor": 5
}
